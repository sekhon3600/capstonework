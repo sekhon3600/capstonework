{
 "cells": [
  {
   "cell_type": "code",
   "execution_count": 1,
   "id": "648ae063-6ed6-4793-9ff0-d2f3f41f3ed9",
   "metadata": {},
   "outputs": [],
   "source": [
    "import pandas as pd\n"
   ]
  },
  {
   "cell_type": "code",
   "execution_count": 2,
   "id": "0eaaff4a-85b2-4c71-84eb-b81a563b6d97",
   "metadata": {},
   "outputs": [],
   "source": [
    "main_data=pd.read_csv('main.csv')"
   ]
  },
  {
   "cell_type": "code",
   "execution_count": 3,
   "id": "656a86ae-c42d-4848-ab4d-21a2757931ae",
   "metadata": {},
   "outputs": [],
   "source": [
    "merge_data=pd.read_csv('ev_stations.csv')"
   ]
  },
  {
   "cell_type": "code",
   "execution_count": 4,
   "id": "ff0bbf3f-8843-4ae9-9892-05d119ed9b13",
   "metadata": {},
   "outputs": [],
   "source": [
    "merged_data=pd.merge(main_data, merge_data,on='Location Name',how='left')"
   ]
  },
  {
   "cell_type": "code",
   "execution_count": null,
   "id": "27387707-0701-4aac-85cc-329e337d0fb3",
   "metadata": {},
   "outputs": [],
   "source": [
    "merged_df.to_csv('merged_file.csv',index=False)"
   ]
  }
 ],
 "metadata": {
  "kernelspec": {
   "display_name": "Python 3 (ipykernel)",
   "language": "python",
   "name": "python3"
  },
  "language_info": {
   "codemirror_mode": {
    "name": "ipython",
    "version": 3
   },
   "file_extension": ".py",
   "mimetype": "text/x-python",
   "name": "python",
   "nbconvert_exporter": "python",
   "pygments_lexer": "ipython3",
   "version": "3.11.7"
  }
 },
 "nbformat": 4,
 "nbformat_minor": 5
}
